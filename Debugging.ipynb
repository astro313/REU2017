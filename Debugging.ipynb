{
 "cells": [
  {
   "cell_type": "markdown",
   "metadata": {},
   "source": [
    "One way of running programs in python is by executing a script, with `run <script.py>` in python or `python <script.py>` in terminal. \n",
    "\n",
    "What if you realize that something in the script is wrong after you have executed the file, or for whatever reason you want to interupted the program?\n",
    "\n",
    "You can use ctrl+c to abort the program, which essentially is throwing an \"exception\" -- `KeyboardInterrupt` exception. We will briefly talk about `Exception` later in this notebook.\n",
    "\n",
    "If you are writing some new code (to a python script) and you are unsure whether or not it will work, instead of doing `run <script.py>` and then manually interupting your code with ctrl+c, there are other moer elegants ways. In this notebook, we will go over some ways of debugging in python."
   ]
  },
  {
   "cell_type": "markdown",
   "metadata": {},
   "source": [
    "# 1) basic level: using print statements"
   ]
  },
  {
   "cell_type": "code",
   "execution_count": null,
   "metadata": {
    "collapsed": false
   },
   "outputs": [],
   "source": [
    "# Let's first define a broken function\n",
    "def blah(a, b):\n",
    "    c = 10\n",
    "    return a/b - c"
   ]
  },
  {
   "cell_type": "code",
   "execution_count": null,
   "metadata": {
    "collapsed": false
   },
   "outputs": [],
   "source": [
    "# call the function \n",
    "# define some varables to parse to the function \n",
    "aa = 5\n",
    "bb = 10\n",
    "print blah(aa, bb)    # call the function"
   ]
  },
  {
   "cell_type": "markdown",
   "metadata": {},
   "source": [
    "As we know, 5/10 - 10 = -9.5 and not -10, so something must be wrong inside the function. In this simple example, it may be super obvious that we are dividing an integer with an integer, and will get back an integer. But this is good enough to show why simple `print` statements will be suffice in some cases.\n",
    "\n",
    "Ok, assuming that we didn't know what the problem is, we will use `print` to find out what went wrong. "
   ]
  },
  {
   "cell_type": "code",
   "execution_count": null,
   "metadata": {
    "collapsed": false
   },
   "outputs": [],
   "source": [
    "def blah(a, b):\n",
    "    c = 10\n",
    "    print \"a: \", a\n",
    "    print \"b: \", b\n",
    "    print \"c: \", c\n",
    "    print \"a/b = %d/%d = %f\" %(a,b,a/b)\n",
    "    print \"output:\", a/b - c\n",
    "    return a/b - c"
   ]
  },
  {
   "cell_type": "code",
   "execution_count": null,
   "metadata": {
    "collapsed": false
   },
   "outputs": [],
   "source": [
    "blah(aa, bb) "
   ]
  },
  {
   "cell_type": "markdown",
   "metadata": {},
   "source": [
    "From this, it's clear that `a/b` is the problem since a/b = 1/2 and not 0. And you can quickly go an fix that step. "
   ]
  },
  {
   "cell_type": "markdown",
   "metadata": {},
   "source": [
    "But using `print` statements may be inconvenient if the code takes a long time to run,  and also you may want to chcek the values of other variables to diagnose the problem. If you use crtl+C at this point, you will lose the values stored inside all variables. Perhaps you would want to go back and put another print statement inside the code and run it again to check another variable. But this goes on... and you may have to go back many times! \n",
    "\n",
    "Alternatively, you can use the `pdb` module, which is an interactive source debugger. The variables are presevered at breakpoint, and can interactively step through each line of your code.\n",
    "(see more at https://pymotw.com/2/pdb/)\n",
    "\n",
    "To use, you can enable `pdb` either before an Exception is caught, or after. In Jupyter notebook, `pdb` is enable with the magic command `%pdb`, `%pdb on`, `%pdb 1`, disabled with `%pdb`, `%pdb off` or `%pdb 0`."
   ]
  },
  {
   "cell_type": "code",
   "execution_count": null,
   "metadata": {
    "collapsed": false
   },
   "outputs": [],
   "source": [
    "%pdb 0"
   ]
  },
  {
   "cell_type": "code",
   "execution_count": null,
   "metadata": {
    "collapsed": false
   },
   "outputs": [],
   "source": [
    "% pdb off"
   ]
  },
  {
   "cell_type": "code",
   "execution_count": null,
   "metadata": {
    "collapsed": false
   },
   "outputs": [],
   "source": [
    "% pdb on"
   ]
  },
  {
   "cell_type": "code",
   "execution_count": null,
   "metadata": {
    "collapsed": false
   },
   "outputs": [],
   "source": [
    "%pdb"
   ]
  },
  {
   "cell_type": "code",
   "execution_count": null,
   "metadata": {
    "collapsed": false
   },
   "outputs": [],
   "source": [
    "%pdb"
   ]
  },
  {
   "cell_type": "markdown",
   "metadata": {},
   "source": [
    "After you've enabled pdb, type `help` to show commands aavialble. Some commands are e.g. `step`, `quit`, `restart`.\n",
    "\n",
    "If you have set `pdb on` before an exception is triggered, (I)python can call the interactive pdb debugger after the traceback printout.\n",
    "\n",
    "If you want to activate the debugger **AFTER** an exception is caught/fired, without having to rerun your code, you can use the `%debug` magic (or `debug` in ipython)."
   ]
  },
  {
   "cell_type": "markdown",
   "metadata": {},
   "source": [
    "If you are running some python *scripts*, where instead of running codes line by line you want to run a large chuck of code before checking the variables or stepping through the code line-by-line, it's useful to use `import pdb; pdb.set_trace()`. "
   ]
  },
  {
   "cell_type": "markdown",
   "metadata": {
    "collapsed": true
   },
   "source": [
    "#### Go to ipython or terminal and execute pdb1.py to see how it is used in practice inside python scripts."
   ]
  },
  {
   "cell_type": "markdown",
   "metadata": {},
   "source": [
    "If you know where you want to exit the code a priori, you can use `sys.exit()`."
   ]
  },
  {
   "cell_type": "code",
   "execution_count": null,
   "metadata": {
    "collapsed": false
   },
   "outputs": [],
   "source": [
    "import sys\n",
    "\n",
    "a = [1,2,3]\n",
    "print a\n",
    "sys.exit()\n",
    "\n",
    "b = 'hahaha'\n",
    "print b"
   ]
  },
  {
   "cell_type": "markdown",
   "metadata": {},
   "source": [
    "# Catching Errors"
   ]
  },
  {
   "cell_type": "markdown",
   "metadata": {
    "collapsed": false
   },
   "source": [
    "### Some common types of errors:\n",
    "\n",
    "- NameError:\n",
    "    - undefined variables\n",
    "- Logic error:\n",
    "    - harder to debug\n",
    "    - usually associate with the equation missing something\n",
    "- IOError\n",
    "- TypeError"
   ]
  },
  {
   "cell_type": "code",
   "execution_count": null,
   "metadata": {
    "collapsed": true
   },
   "outputs": [],
   "source": [
    "# Way to handle errors inside scripts\n",
    "\n",
    "try:\n",
    "    # what we want the code to do\n",
    "except: # when errors as running the above line, will immediately jumps in exception handler, not finishing all the lines in try\n",
    "    # Do something else"
   ]
  },
  {
   "cell_type": "code",
   "execution_count": null,
   "metadata": {
    "collapsed": true
   },
   "outputs": [],
   "source": [
    "# Some Example usage of try…except:\n",
    "# use default behavior if encounter IOError\n",
    "try:\n",
    "     import astropy \n",
    "except ImportError:\n",
    "     print(\"Astropy not installed...\")"
   ]
  },
  {
   "cell_type": "code",
   "execution_count": null,
   "metadata": {
    "collapsed": false
   },
   "outputs": [],
   "source": [
    "# Slightly more complex:\n",
    "# Try, raise, except, else, finally\n",
    "try:\n",
    "     print ('blah')\n",
    "     raise ValueError()            # throws an error\n",
    "except ValueError, Err:            # only catches 0 division errors\n",
    "     print (\"We caught an error! \")\n",
    "else:\n",
    "     print  (\"here, if it didn't go through except...no errors are caught\")\n",
    "finally:\n",
    "     print (\"literally, finally... Useful for cleaning files, or closing files.\")"
   ]
  },
  {
   "cell_type": "code",
   "execution_count": null,
   "metadata": {
    "collapsed": false
   },
   "outputs": [],
   "source": [
    "# If we didn't have an error...\n",
    "# \n",
    "try:\n",
    "     print ('blah')\n",
    "#      raise ValueError()            # throws an error\n",
    "except ValueError, Err:              # only catches 0 division errors\n",
    "     print (\"We caught an error! \")\n",
    "else:\n",
    "     print  (\"here, if it didn't go through except... no errors are caught\")\n",
    "finally:\n",
    "     print (\"literally, finally... Useful for cleaning files, or closing files.\")"
   ]
  },
  {
   "cell_type": "markdown",
   "metadata": {
    "collapsed": true
   },
   "source": [
    "But sometimes you may want to use `if... else` instead of `try...except`.\n",
    "\n",
    "- If the program knows how to fall back to a default grid, that's not an unexpected event\n",
    "- Exceptions should only be used to handle exceptional cases\n",
    "    - e.g. something requiring users' attention"
   ]
  },
  {
   "cell_type": "markdown",
   "metadata": {
    "collapsed": true
   },
   "source": [
    "# Conditions"
   ]
  },
  {
   "cell_type": "code",
   "execution_count": null,
   "metadata": {
    "collapsed": false
   },
   "outputs": [],
   "source": [
    "import numpy as np\n",
    "\n",
    "mask = [True, True, False]\n",
    "\n",
    "print np.sum(mask)      # same as counting number where mask == True"
   ]
  },
  {
   "cell_type": "code",
   "execution_count": null,
   "metadata": {
    "collapsed": true
   },
   "outputs": [],
   "source": [
    "debug = False\n",
    "\n",
    "if debug:\n",
    "    print \"...\""
   ]
  },
  {
   "cell_type": "code",
   "execution_count": null,
   "metadata": {
    "collapsed": false
   },
   "outputs": [],
   "source": [
    "debug = True\n",
    "\n",
    "if debug:\n",
    "    print \"...\""
   ]
  },
  {
   "cell_type": "code",
   "execution_count": null,
   "metadata": {
    "collapsed": false
   },
   "outputs": [],
   "source": [
    "# define a number\n",
    "x = 33\n",
    "\n",
    "# print it if it is greater than 30 but smaller than 50\n",
    "if x > 30 and x < 50:\n",
    "    print x"
   ]
  },
  {
   "cell_type": "code",
   "execution_count": null,
   "metadata": {
    "collapsed": false
   },
   "outputs": [],
   "source": [
    "# print if number not np.nan\n",
    "if not np.isnan(x):\n",
    "    print x"
   ]
  },
  {
   "cell_type": "code",
   "execution_count": null,
   "metadata": {
    "collapsed": false
   },
   "outputs": [],
   "source": [
    "# Introducing numpy.where()\n",
    "import numpy as np\n",
    "np.where?"
   ]
  },
  {
   "cell_type": "code",
   "execution_count": null,
   "metadata": {
    "collapsed": false
   },
   "outputs": [],
   "source": [
    "# Example 1\n",
    "\n",
    "a = [0.1, 1, 3, 10, 100]\n",
    "a = np.array(a)        # so we can use np.where\n",
    "\n",
    "# one way..\n",
    "conditionIdx = ((a<=10) & (a>=1))\n",
    "print conditionIdx       # boolean\n",
    "new = a[conditionIdx]\n",
    "\n",
    "# or directly\n",
    "new_a = a[((a <= 10) & (a>=1))]\n",
    "\n",
    "\n",
    "# you can also use np.where\n",
    "new_a = a[np.where((a <= 10) & (a>=1))]"
   ]
  },
  {
   "cell_type": "code",
   "execution_count": null,
   "metadata": {
    "collapsed": false
   },
   "outputs": [],
   "source": [
    "# Example 2 -- replacement using np.where\n",
    "beam_ga = np.where(tz > 0, img[tx, ty, tz], 0)\n",
    "\n",
    "# np.where(if condition is TRUE, then TRUE operation, else)\n",
    "# Here, to mask out beam value for z<0"
   ]
  },
  {
   "cell_type": "markdown",
   "metadata": {},
   "source": [
    "# Link to next notebook: "
   ]
  },
  {
   "cell_type": "code",
   "execution_count": null,
   "metadata": {
    "collapsed": true
   },
   "outputs": [],
   "source": []
  }
 ],
 "metadata": {
  "kernelspec": {
   "display_name": "Python 2",
   "language": "python",
   "name": "python2"
  },
  "language_info": {
   "codemirror_mode": {
    "name": "ipython",
    "version": 2
   },
   "file_extension": ".py",
   "mimetype": "text/x-python",
   "name": "python",
   "nbconvert_exporter": "python",
   "pygments_lexer": "ipython2",
   "version": "2.7.12"
  }
 },
 "nbformat": 4,
 "nbformat_minor": 0
}
