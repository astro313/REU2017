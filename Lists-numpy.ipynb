{
 "cells": [
  {
   "cell_type": "markdown",
   "metadata": {},
   "source": [
    "# Lists, numpy arrays and all those confusing essential things that we do all the time\n"
   ]
  },
  {
   "cell_type": "markdown",
   "metadata": {},
   "source": [
    "# Package importing"
   ]
  },
  {
   "cell_type": "code",
   "execution_count": 92,
   "metadata": {
    "collapsed": false
   },
   "outputs": [
    {
     "data": {
      "text/plain": [
       "0.5319723741227683"
      ]
     },
     "execution_count": 92,
     "metadata": {},
     "output_type": "execute_result"
    }
   ],
   "source": [
    "import numpy as np\n",
    "\n",
    "np.random.random()   #Random real number uniformly distributed between 0 and 1"
   ]
  },
  {
   "cell_type": "code",
   "execution_count": 93,
   "metadata": {
    "collapsed": false
   },
   "outputs": [
    {
     "data": {
      "text/plain": [
       "1.2241779246356868"
      ]
     },
     "execution_count": 93,
     "metadata": {},
     "output_type": "execute_result"
    }
   ],
   "source": [
    "np.random.normal()  #Random real number following Gaussian distribution with mean=0 and standard deviation=1"
   ]
  },
  {
   "cell_type": "markdown",
   "metadata": {},
   "source": [
    "Or you can also import a particular function or a subpackage from a package like this"
   ]
  },
  {
   "cell_type": "code",
   "execution_count": 94,
   "metadata": {
    "collapsed": false
   },
   "outputs": [
    {
     "data": {
      "text/plain": [
       "0.6605343877252609"
      ]
     },
     "execution_count": 94,
     "metadata": {},
     "output_type": "execute_result"
    }
   ],
   "source": [
    "from numpy import random\n",
    "random.normal()"
   ]
  },
  {
   "cell_type": "code",
   "execution_count": 95,
   "metadata": {
    "collapsed": false
   },
   "outputs": [
    {
     "data": {
      "text/plain": [
       "-0.5652052462647814"
      ]
     },
     "execution_count": 95,
     "metadata": {},
     "output_type": "execute_result"
    }
   ],
   "source": [
    "#OR:\n",
    "from numpy.random import normal\n",
    "normal()"
   ]
  },
  {
   "cell_type": "markdown",
   "metadata": {},
   "source": [
    "# Lists in python"
   ]
  },
  {
   "cell_type": "markdown",
   "metadata": {},
   "source": [
    "Lists are some of the most useful data structures in basic python. You can put anything you want in a list, you can change individual cells, elements can be lists themselves too."
   ]
  },
  {
   "cell_type": "code",
   "execution_count": 96,
   "metadata": {
    "collapsed": true
   },
   "outputs": [],
   "source": [
    "mylist=[1,2,3,'a',True,[5,6]]"
   ]
  },
  {
   "cell_type": "code",
   "execution_count": 97,
   "metadata": {
    "collapsed": false
   },
   "outputs": [
    {
     "name": "stdout",
     "output_type": "stream",
     "text": [
      "[1, 2, 3, 'a', True, [5, 6]]\n",
      "[5, 6]\n"
     ]
    }
   ],
   "source": [
    "print mylist\n",
    "print mylist[5]"
   ]
  },
  {
   "cell_type": "markdown",
   "metadata": {},
   "source": [
    "An extremely useful pre-defined function is \"range\":"
   ]
  },
  {
   "cell_type": "code",
   "execution_count": 98,
   "metadata": {
    "collapsed": false
   },
   "outputs": [
    {
     "name": "stdout",
     "output_type": "stream",
     "text": [
      "[0, 1, 2, 3, 4]\n",
      "[4, 5, 6, 7, 8, 9]\n"
     ]
    }
   ],
   "source": [
    "print range(5)\n",
    "print range(4,10)"
   ]
  },
  {
   "cell_type": "markdown",
   "metadata": {},
   "source": [
    "One of the most useful things about lists in python, is that they can be defined recursively, in a very \"math\" way"
   ]
  },
  {
   "cell_type": "code",
   "execution_count": 99,
   "metadata": {
    "collapsed": false
   },
   "outputs": [
    {
     "name": "stdout",
     "output_type": "stream",
     "text": [
      "[0, 1, 2, 3, 4, 5, 6, 7, 8, 9]\n",
      "[0, 2, 4, 6, 8, 10, 12, 14, 16, 18]\n"
     ]
    }
   ],
   "source": [
    "listA=range(10)\n",
    "listB=[2*elem for elem in listA]\n",
    "print listA\n",
    "print listB"
   ]
  },
  {
   "cell_type": "code",
   "execution_count": 100,
   "metadata": {
    "collapsed": false
   },
   "outputs": [
    {
     "name": "stdout",
     "output_type": "stream",
     "text": [
      "[(0, 1), (1, 2), (2, 4), (3, 8), (4, 16), (5, 32), (6, 64), (7, 128), (8, 256), (9, 512)]\n",
      "[32, 64, 128, 256, 512]\n"
     ]
    }
   ],
   "source": [
    "listC=[(idx,2**elem) for idx,elem in enumerate(listA)]\n",
    "listD=[2**elem for idx,elem in enumerate(listA) if elem>4]\n",
    "print listC\n",
    "print listD"
   ]
  },
  {
   "cell_type": "code",
   "execution_count": 101,
   "metadata": {
    "collapsed": false
   },
   "outputs": [
    {
     "name": "stdout",
     "output_type": "stream",
     "text": [
      "[('id:0', 'power:1'), ('id:1', 'power:2'), ('id:2', 'power:4'), ('id:3', 'power:8'), ('id:4', 'power:16'), ('id:5', 'power:32'), ('id:6', 'power:64'), ('id:7', 'power:128'), ('id:8', 'power:256'), ('id:9', 'power:512')]\n"
     ]
    }
   ],
   "source": [
    "listE=[('id:'+str(idx),'power:'+str(2**elem)) for idx,elem in enumerate(listA)]\n",
    "print listE"
   ]
  },
  {
   "cell_type": "markdown",
   "metadata": {},
   "source": [
    "# Numpy array and indexing"
   ]
  },
  {
   "cell_type": "markdown",
   "metadata": {},
   "source": [
    "You can create a numpy array a couple of different ways. One of them is to use np.arange, the equivalent of range() we saw for lists, but also creates floats\n",
    "\n",
    "The BEST thing about numpy arrays, is that you can do math on them treating them as single numbers, and it will do the operations to EACH element by default!"
   ]
  },
  {
   "cell_type": "code",
   "execution_count": 102,
   "metadata": {
    "collapsed": false
   },
   "outputs": [
    {
     "name": "stdout",
     "output_type": "stream",
     "text": [
      "[0 1 2 3 4 5 6 7 8 9]\n",
      "[5 6 7 8 9]\n",
      "[ 1.5  2.   2.5  3.   3.5]\n",
      "[ 3.   3.1  3.2  3.3  3.4  3.5  3.6  3.7  3.8  3.9]\n",
      "[        inf  2.          1.          0.66666667  0.5         0.4\n",
      "  0.33333333  0.28571429  0.25        0.22222222  0.2         0.18181818\n",
      "  0.16666667  0.15384615  0.14285714  0.13333333  0.125       0.11764706\n",
      "  0.11111111  0.10526316  0.1       ]\n"
     ]
    },
    {
     "name": "stderr",
     "output_type": "stream",
     "text": [
      "/Users/riccardo/anaconda/envs/py27/lib/python2.7/site-packages/ipykernel/__main__.py:7: RuntimeWarning: divide by zero encountered in divide\n"
     ]
    }
   ],
   "source": [
    "print np.arange(10)\n",
    "print np.arange(5,10)\n",
    "\n",
    "print np.arange(1.5,4,.5)  #start, end (excluded) and step\n",
    "print np.arange(3,4,.1)\n",
    "\n",
    "print 1/np.arange(0,10.5,.5)"
   ]
  },
  {
   "cell_type": "markdown",
   "metadata": {},
   "source": [
    "OR we can produce lists and then convert them to numpy arrays in a straightforward way:"
   ]
  },
  {
   "cell_type": "code",
   "execution_count": 103,
   "metadata": {
    "collapsed": false
   },
   "outputs": [
    {
     "name": "stdout",
     "output_type": "stream",
     "text": [
      "[1 2 3]\n",
      "[  1.           1.73205081   3.           5.19615242   9.          15.58845727\n",
      "  27.          46.7653718 ]\n",
      "[  1.           1.73205081   3.           5.19615242   9.          15.58845727\n",
      "  27.          46.7653718 ]\n"
     ]
    }
   ],
   "source": [
    "print np.array([1,2,3])\n",
    "\n",
    "print np.array([3**x for x in np.arange(0,4,.5)])    \n",
    "\n",
    "#THIS CAN BE DONE BETTER WITH THIS:\n",
    "myarray=3**np.arange(0,4,.5)\n",
    "print myarray"
   ]
  },
  {
   "cell_type": "code",
   "execution_count": 104,
   "metadata": {
    "collapsed": false
   },
   "outputs": [
    {
     "name": "stdout",
     "output_type": "stream",
     "text": [
      "(8,)\n",
      "8\n"
     ]
    }
   ],
   "source": [
    "print myarray.shape\n",
    "print myarray.shape[0]"
   ]
  },
  {
   "cell_type": "markdown",
   "metadata": {},
   "source": [
    "Indexing is pretty flexible"
   ]
  },
  {
   "cell_type": "code",
   "execution_count": 105,
   "metadata": {
    "collapsed": false
   },
   "outputs": [
    {
     "name": "stdout",
     "output_type": "stream",
     "text": [
      "[ 5.19615242  9.        ]\n",
      "[  5.19615242   9.          15.58845727  27.          46.7653718 ]\n",
      "[ 1.          1.73205081  3.          5.19615242]\n",
      "[  1.           1.73205081   3.           5.19615242   9.          15.58845727]\n"
     ]
    }
   ],
   "source": [
    "print myarray[3:5]  #3 to 5, 5 excluded\n",
    "print myarray[3:]   #3 onwards\n",
    "print myarray[:4]    #Until 4, i.e. 0,1,2,3\n",
    "print myarray[:-2]   #Until two from the end, i.e. exclude the last two"
   ]
  },
  {
   "cell_type": "code",
   "execution_count": 106,
   "metadata": {
    "collapsed": false
   },
   "outputs": [
    {
     "name": "stdout",
     "output_type": "stream",
     "text": [
      "[  5.19615242   9.          15.58845727]\n"
     ]
    }
   ],
   "source": [
    "indexing_list=[3,4,5]\n",
    "print myarray[indexing_list]"
   ]
  },
  {
   "cell_type": "code",
   "execution_count": 107,
   "metadata": {
    "collapsed": false
   },
   "outputs": [
    {
     "name": "stdout",
     "output_type": "stream",
     "text": [
      "[ 1.  1.  1.  1.]\n",
      "[ 1.  1.  1.  1.  1.  1.  1.  1.]\n",
      "[ True  True  True  True False False False  True]\n"
     ]
    }
   ],
   "source": [
    "print np.ones(4)\n",
    "\n",
    "boolean_indexing=np.ones_like(myarray)\n",
    "print boolean_indexing\n",
    "boolean_indexing[[4,5,6]]=False\n",
    "print boolean_indexing.astype('bool')"
   ]
  },
  {
   "cell_type": "code",
   "execution_count": 108,
   "metadata": {
    "collapsed": false
   },
   "outputs": [
    {
     "name": "stdout",
     "output_type": "stream",
     "text": [
      "[0 1 2 3 7]\n"
     ]
    }
   ],
   "source": [
    "print np.arange(myarray.shape[0])[boolean_indexing.astype('bool')]"
   ]
  },
  {
   "cell_type": "code",
   "execution_count": 109,
   "metadata": {
    "collapsed": false
   },
   "outputs": [
    {
     "name": "stdout",
     "output_type": "stream",
     "text": [
      "[[ 1.  1.  1.  1.]\n",
      " [ 1.  1.  1.  1.]\n",
      " [ 1.  1.  1.  1.]]\n"
     ]
    }
   ],
   "source": [
    "print np.ones((3,4))"
   ]
  },
  {
   "cell_type": "code",
   "execution_count": 110,
   "metadata": {
    "collapsed": false
   },
   "outputs": [
    {
     "name": "stdout",
     "output_type": "stream",
     "text": [
      "[[0 1 2 3 4]\n",
      " [0 1 2 3 4]\n",
      " [0 1 2 3 4]\n",
      " [0 1 2 3 4]]\n"
     ]
    }
   ],
   "source": [
    "y,x=np.mgrid[:4,:5]\n",
    "print x\n"
   ]
  },
  {
   "cell_type": "code",
   "execution_count": 111,
   "metadata": {
    "collapsed": false
   },
   "outputs": [
    {
     "name": "stdout",
     "output_type": "stream",
     "text": [
      "[[0 0 0 0 0]\n",
      " [1 1 1 1 1]\n",
      " [2 2 2 2 2]\n",
      " [3 3 3 3 3]]\n"
     ]
    }
   ],
   "source": [
    "print y"
   ]
  },
  {
   "cell_type": "code",
   "execution_count": 112,
   "metadata": {
    "collapsed": false
   },
   "outputs": [
    {
     "name": "stdout",
     "output_type": "stream",
     "text": [
      "[[ 0  1  4  9 16]\n",
      " [ 1  2  5 10 17]\n",
      " [ 4  5  8 13 20]\n",
      " [ 9 10 13 18 25]]\n"
     ]
    }
   ],
   "source": [
    "print x**2+y**2"
   ]
  },
  {
   "cell_type": "code",
   "execution_count": null,
   "metadata": {
    "collapsed": true
   },
   "outputs": [],
   "source": []
  }
 ],
 "metadata": {
  "kernelspec": {
   "display_name": "Python 2",
   "language": "python",
   "name": "python2"
  },
  "language_info": {
   "codemirror_mode": {
    "name": "ipython",
    "version": 2
   },
   "file_extension": ".py",
   "mimetype": "text/x-python",
   "name": "python",
   "nbconvert_exporter": "python",
   "pygments_lexer": "ipython2",
   "version": "2.7.11"
  }
 },
 "nbformat": 4,
 "nbformat_minor": 0
}
