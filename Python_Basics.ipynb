{
 "cells": [
  {
   "cell_type": "markdown",
   "metadata": {},
   "source": [
    "# Data types"
   ]
  },
  {
   "cell_type": "code",
   "execution_count": 1,
   "metadata": {
    "collapsed": false
   },
   "outputs": [
    {
     "name": "stdout",
     "output_type": "stream",
     "text": [
      "Tuple values cannot be updated\n"
     ]
    }
   ],
   "source": [
    "#There are several types of data sets in python:\n",
    "# tuple, list, array, set, matrix\n",
    "\n",
    "#tuples\n",
    "#tuples are immutable objects - that is, they can't be modified once they are created\n",
    "\n",
    "measures = ('c', 'tsp', 'tbsp', 'oz') #Notice I used parentheses\n",
    "\n",
    "try:\n",
    "    measures[0]='stick'\n",
    "except TypeError:\n",
    "    print('Tuple values cannot be updated')"
   ]
  },
  {
   "cell_type": "code",
   "execution_count": 2,
   "metadata": {
    "collapsed": false
   },
   "outputs": [
    {
     "name": "stdout",
     "output_type": "stream",
     "text": [
      "['flour', 'brown sugar', 'butter', 'chocolate chips']\n",
      "['flour', 'brown sugar', 'butter', 'chocolate chips', 'flour', 'brown sugar', 'butter', 'chocolate chips']\n"
     ]
    }
   ],
   "source": [
    "#Lists are tuples that can be updated\n",
    "\n",
    "ingredients = ['flour', 'sugar', 'butter'] #Notice I used brackets\n",
    "\n",
    "ingredients[1] = 'brown sugar'\n",
    "\n",
    "#It's also easy to add data to tuples with the append function\n",
    "ingredients.append('chocolate chips')\n",
    "\n",
    "print(ingredients)\n",
    "\n",
    "#Repeitions is also easy to do with lists\n",
    "print(ingredients*2)"
   ]
  },
  {
   "cell_type": "code",
   "execution_count": 3,
   "metadata": {
    "collapsed": false
   },
   "outputs": [
    {
     "name": "stdout",
     "output_type": "stream",
     "text": [
      "[  2.75   1.5    1.    12.     1.     1.     2.     1.  ]\n",
      "[  5.5   3.    2.   24.    2.    2.    4.    2. ]\n"
     ]
    }
   ],
   "source": [
    "#Arrays are numpy objects, mainly for arithmetic, but strings can also be used\n",
    "import numpy as np\n",
    "\n",
    "amounts1 = np.array([1.75, .5, 0, 11, 0, 0, 1, 0])\n",
    "amounts2 = np.array([1, 1, 1, 1, 1, 1, 1, 1])\n",
    "\n",
    "amounts = amounts1+amounts2\n",
    "\n",
    "print(amounts) #array operations are element-by-element\n",
    "print(amounts*2) #Multiplying now is no longer repetition"
   ]
  },
  {
   "cell_type": "code",
   "execution_count": 4,
   "metadata": {
    "collapsed": false
   },
   "outputs": [
    {
     "name": "stdout",
     "output_type": "stream",
     "text": [
      "1000 loops, best of 3: 943 µs per loop\n",
      "The slowest run took 196.27 times longer than the fastest. This could mean that an intermediate result is being cached.\n",
      "10000000 loops, best of 3: 71.9 ns per loop\n"
     ]
    }
   ],
   "source": [
    "#Sets are the most efficient data types in python, by they are limited\n",
    "#Sets can only have unique values and are always unsorted\n",
    "\n",
    "'''\n",
    "Operation             |        Equivalent            |              Result\n",
    "\n",
    "s.issubset(t)                     s <= t                  test whether every element in s is in t\n",
    "s.issuperset(t)                   s >= t                  test whether every element in t is in s\n",
    "s.union(t)                        s | t                   new set with elements from both s and t\n",
    "s.intersection(t)                 s & t                   new set with elements common to s and t\n",
    "s.difference(t)                   s - t                   new set with elements in s but not in t\n",
    "s.symmetric_difference(t)         s ^ t                   new set with elements in either s or t but not both\n",
    "'''\n",
    "\n",
    "my_list = list(range(1000000))\n",
    "my_set = set(range(1000000))\n",
    "\n",
    "%timeit 50005 in my_list\n",
    "%timeit 50005 in my_set"
   ]
  },
  {
   "cell_type": "markdown",
   "metadata": {},
   "source": [
    "# Loops"
   ]
  },
  {
   "cell_type": "code",
   "execution_count": 5,
   "metadata": {
    "collapsed": false
   },
   "outputs": [
    {
     "name": "stdout",
     "output_type": "stream",
     "text": [
      "10 loops, best of 3: 52.5 ms per loop\n",
      "1.9110009670257568\n"
     ]
    }
   ],
   "source": [
    "#Loops in Python are notoriously slow, as an example let's time a simple calculation\n",
    "\n",
    "import time #python's timing module\n",
    "import numpy as np\n",
    "import random\n",
    "\n",
    "%timeit np.sin(np.repeat(amounts,3e5))\n",
    "\n",
    "start = time.time()\n",
    "for amount in np.repeat(amounts,3e5):\n",
    "    np.sin(amount)\n",
    "end = time.time()\n",
    "print(end-start)"
   ]
  },
  {
   "cell_type": "code",
   "execution_count": 6,
   "metadata": {
    "collapsed": false
   },
   "outputs": [
    {
     "name": "stdout",
     "output_type": "stream",
     "text": [
      "['flour', 'brown sugar', 'butter', 'chocolate chips', 'baking soda']\n"
     ]
    }
   ],
   "source": [
    "#There are two main types of loops - while and for.  Related to these are if/else statements.  Let's go over all of those...\n",
    "\n",
    "#if/else - checking for conditionals\n",
    "\n",
    "if 'baking soda' not in ingredients:\n",
    "    ingredients.append('baking soda')\n",
    "elif 'vanilla' not in ingredients:\n",
    "    ingredients.append('vanilla')\n",
    "else:\n",
    "    print('All ingredients included')\n",
    "\n",
    "print(ingredients)"
   ]
  },
  {
   "cell_type": "code",
   "execution_count": 7,
   "metadata": {
    "collapsed": false
   },
   "outputs": [
    {
     "name": "stdout",
     "output_type": "stream",
     "text": [
      "['flour', 'brown sugar', 'butter', 'chocolate chips', 'baking soda', 'vanilla', 'eggs', 'salt']\n"
     ]
    }
   ],
   "source": [
    "#We're still missing some ingredients\n",
    "ingredients+=['vanilla','eggs','salt']\n",
    "print(ingredients)"
   ]
  },
  {
   "cell_type": "code",
   "execution_count": 8,
   "metadata": {
    "collapsed": false
   },
   "outputs": [
    {
     "name": "stdout",
     "output_type": "stream",
     "text": [
      "Ingredient is: flour\n",
      "Moving to next ingredient\n",
      "Ingredient is: butter\n",
      "Not the eggs!\n"
     ]
    }
   ],
   "source": [
    "#for loops - Python is indexed based, so closing loops is not necessary\n",
    "\n",
    "#There are three ways to break a for loop:\n",
    "# pass - do nothing\n",
    "# continue - proceed to the next iteration of the loop\n",
    "# break - move out of loop altogether\n",
    "\n",
    "for ingredient in ingredients: #Indexing is not required\n",
    "    if 4<len(ingredient)<7:\n",
    "        pass\n",
    "        print('Ingredient is: '+ingredient)\n",
    "    elif 7<len(ingredient)<=11:\n",
    "        print('Moving to next ingredient')\n",
    "        continue\n",
    "    else:\n",
    "        print('Not the eggs!')\n",
    "        break"
   ]
  },
  {
   "cell_type": "code",
   "execution_count": 17,
   "metadata": {
    "collapsed": false
   },
   "outputs": [
    {
     "name": "stdout",
     "output_type": "stream",
     "text": [
      "Cookies are ready!!!\n"
     ]
    }
   ],
   "source": [
    "from ipywidgets import FloatProgress\n",
    "from IPython.display import display\n",
    "\n",
    "progress_bar = FloatProgress(min=0, max=100)\n",
    "display(progress_bar)\n",
    "\n",
    "#Never use while loops because they are frequently just traps to get stuck in\n",
    "\n",
    "baking_time = 0\n",
    "while baking_time<100:\n",
    "    progress_bar.value+=1\n",
    "    baking_time+=1\n",
    "    time.sleep(.01)\n",
    "    \n",
    "print('Cookies are ready!!!')"
   ]
  },
  {
   "cell_type": "markdown",
   "metadata": {},
   "source": [
    "# Functions/Formatting "
   ]
  },
  {
   "cell_type": "code",
   "execution_count": 10,
   "metadata": {
    "collapsed": false
   },
   "outputs": [
    {
     "name": "stdout",
     "output_type": "stream",
     "text": [
      "Chocolate Chip Cookies\n",
      "\n",
      "1.0 c   butter\n",
      "1.5 c   brown sugar\n",
      "2.0     eggs\n",
      "1.0 tsp vanilla\n",
      "2.75 c  flour\n",
      "1.0 tsp baking soda\n",
      "1.0 tsp salt\n",
      "12.0 oz chocolate chips\n",
      "\n",
      "Cream together the butter and brown sugar until light and fluffy.\n",
      "Add eggs one at a time, mixing until combined after each.\n",
      "Add in vanilla extract.  Mix until combined.\n",
      "In a separate bowl combine dry ingredients.\n",
      "Add dry ingredients to wet ingredients in three batches.  Mix after each.\n",
      "Stir in chocolate chips.\n",
      "Scoop using a 1oz cookie scoop onto ungreased cookie sheets.\n",
      "Bake at 375F for 8-10 minutes until golden brown.\n",
      "Serve warm with milk.\n"
     ]
    }
   ],
   "source": [
    "def print_recipe(ingredients, amounts, measures=None):\n",
    "    '''\n",
    "    This is a function to print a chocolate chip cookie recipe.\n",
    "    \n",
    "    Inputs:\n",
    "    \n",
    "        - ingredients: a list of the necessary ingredients\n",
    "        \n",
    "        - amounts: an array of the amount of each ingredient\n",
    "        \n",
    "        - measures: the list of measures for each amount\n",
    "        \n",
    "    Output:\n",
    "    \n",
    "        - No outputs.  A recipe is printed to the screen.\n",
    "    '''\n",
    "    recipe=''\n",
    "    recipe+='Chocolate Chip Cookies\\n\\n'\n",
    "    recipe+='{:2.1f} {}   {}\\n'.format(amounts[2],measures[0],ingredients[2])\n",
    "    recipe+='{:2.1f} {}   {}\\n'.format(amounts[1],measures[0],ingredients[1])\n",
    "    recipe+='{:2.1f}     {}\\n'.format(amounts[-2],ingredients[-2])\n",
    "    recipe+='{:2.1f} {} {}\\n'.format(amounts[-3],measures[1],ingredients[-3])\n",
    "    recipe+='{:2.2f} {}  {}\\n'.format(amounts[0],measures[0],ingredients[0])\n",
    "    recipe+='{:2.1f} {} {}\\n'.format(amounts[4],measures[1],ingredients[4])\n",
    "    recipe+='{:2.1f} {} {}\\n'.format(amounts[-1],measures[1],ingredients[-1])\n",
    "    recipe+='{:2.1f} {} {}\\n'.format(amounts[3],measures[-1],ingredients[3])\n",
    "    \n",
    "    recipe+='\\n'\n",
    "    recipe+='Cream together the butter and brown sugar until light and fluffy.\\n'\n",
    "    recipe+='Add eggs one at a time, mixing until combined after each.\\n'\n",
    "    recipe+='Add in vanilla extract.  Mix until combined.\\n'\n",
    "    recipe+='In a separate bowl combine dry ingredients.\\n'\n",
    "    recipe+='Add dry ingredients to wet ingredients in three batches.  Mix after each.\\n'\n",
    "    recipe+='Stir in chocolate chips.\\n'\n",
    "    \n",
    "    recipe+='Scoop using a 1oz cookie scoop onto ungreased cookie sheets.\\n'\n",
    "    recipe+='Bake at 375F for 8-10 minutes until golden brown.\\n'\n",
    "    recipe+='Serve warm with milk.'\n",
    "    \n",
    "    \n",
    "    print(recipe)\n",
    "    return #You can return arguments here\n",
    "\n",
    "print_recipe(ingredients,amounts,measures)"
   ]
  },
  {
   "cell_type": "code",
   "execution_count": null,
   "metadata": {
    "collapsed": true
   },
   "outputs": [],
   "source": []
  }
 ],
 "metadata": {
  "kernelspec": {
   "display_name": "Python 3",
   "language": "python",
   "name": "python3"
  },
  "language_info": {
   "codemirror_mode": {
    "name": "ipython",
    "version": 3
   },
   "file_extension": ".py",
   "mimetype": "text/x-python",
   "name": "python",
   "nbconvert_exporter": "python",
   "pygments_lexer": "ipython3",
   "version": "3.4.5"
  }
 },
 "nbformat": 4,
 "nbformat_minor": 0
}
